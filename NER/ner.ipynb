{
 "cells": [
  {
   "cell_type": "markdown",
   "id": "72f37005",
   "metadata": {},
   "source": [
    "# Named Entity Recognition (NER) Comparison: spaCy vs Stanza\n",
    "\n",
    "This notebook demonstrates how to extract named entities from sentences using two different NLP libraries: **spaCy** and **Stanza**. We use a token-level test set and compare the results of both systems."
   ]
  },
  {
   "cell_type": "markdown",
   "id": "3fb6ff83",
   "metadata": {},
   "source": [
    "## 1. Load the NER Test Data\n",
    "\n",
    "We load the token-level NER test set, which contains columns for sentence ID, token ID, token, and BIO NER tag."
   ]
  },
  {
   "cell_type": "code",
   "execution_count": 2,
   "id": "a8d1d0be",
   "metadata": {},
   "outputs": [
    {
     "data": {
      "text/html": [
       "<div>\n",
       "<style scoped>\n",
       "    .dataframe tbody tr th:only-of-type {\n",
       "        vertical-align: middle;\n",
       "    }\n",
       "\n",
       "    .dataframe tbody tr th {\n",
       "        vertical-align: top;\n",
       "    }\n",
       "\n",
       "    .dataframe thead th {\n",
       "        text-align: right;\n",
       "    }\n",
       "</style>\n",
       "<table border=\"1\" class=\"dataframe\">\n",
       "  <thead>\n",
       "    <tr style=\"text-align: right;\">\n",
       "      <th></th>\n",
       "      <th>sentence_id</th>\n",
       "      <th>token_id</th>\n",
       "      <th>token</th>\n",
       "      <th>BIO_NER_tag</th>\n",
       "    </tr>\n",
       "  </thead>\n",
       "  <tbody>\n",
       "    <tr>\n",
       "      <th>0</th>\n",
       "      <td>0</td>\n",
       "      <td>0</td>\n",
       "      <td>If</td>\n",
       "      <td>O</td>\n",
       "    </tr>\n",
       "    <tr>\n",
       "      <th>1</th>\n",
       "      <td>0</td>\n",
       "      <td>1</td>\n",
       "      <td>you're</td>\n",
       "      <td>O</td>\n",
       "    </tr>\n",
       "    <tr>\n",
       "      <th>2</th>\n",
       "      <td>0</td>\n",
       "      <td>2</td>\n",
       "      <td>visiting</td>\n",
       "      <td>O</td>\n",
       "    </tr>\n",
       "    <tr>\n",
       "      <th>3</th>\n",
       "      <td>0</td>\n",
       "      <td>3</td>\n",
       "      <td>Paris</td>\n",
       "      <td>B-LOCATION</td>\n",
       "    </tr>\n",
       "    <tr>\n",
       "      <th>4</th>\n",
       "      <td>0</td>\n",
       "      <td>4</td>\n",
       "      <td>,</td>\n",
       "      <td>O</td>\n",
       "    </tr>\n",
       "  </tbody>\n",
       "</table>\n",
       "</div>"
      ],
      "text/plain": [
       "   sentence_id  token_id     token BIO_NER_tag\n",
       "0            0         0        If           O\n",
       "1            0         1    you're           O\n",
       "2            0         2  visiting           O\n",
       "3            0         3     Paris  B-LOCATION\n",
       "4            0         4         ,           O"
      ]
     },
     "execution_count": 2,
     "metadata": {},
     "output_type": "execute_result"
    }
   ],
   "source": [
    "import pandas as pd # Use pandas to read the dataset\n",
    "ner_test = pd.read_csv(r'NER-test.tsv', sep=\"\\t\") # Read the dataset\n",
    "ner_test.head() # Look at the first 5 rows to ensure the data is read correctly"
   ]
  },
  {
   "cell_type": "markdown",
   "id": "0418eff8",
   "metadata": {},
   "source": [
    "## 2. Reconstruct Sentences\n",
    "\n",
    "Since the data is tokenized, we group tokens by `sentence_id` to reconstruct the full sentences for NER processing."
   ]
  },
  {
   "cell_type": "code",
   "execution_count": 3,
   "id": "cabf0f04",
   "metadata": {},
   "outputs": [],
   "source": [
    "sentences = ner_test.groupby('sentence_id')['token'].apply(lambda tokens: ' '.join(tokens)).reset_index() # Group the data by sentence ID and join the tokens into a single sentence\n",
    "sentences.columns = ['sentence_id', 'sentence'] # Rename the columns"
   ]
  },
  {
   "cell_type": "markdown",
   "id": "c3a01fb7",
   "metadata": {},
   "source": [
    "## 3. Import and Initialize NLP Libraries\n",
    "\n",
    "We import and initialize the spaCy and Stanza pipelines for English. These will be used to extract named entities from each sentence."
   ]
  },
  {
   "cell_type": "code",
   "execution_count": 4,
   "id": "512e2b62",
   "metadata": {},
   "outputs": [
    {
     "name": "stderr",
     "output_type": "stream",
     "text": [
      "c:\\Users\\georg\\anaconda3\\envs\\main\\Lib\\site-packages\\tqdm\\auto.py:21: TqdmWarning: IProgress not found. Please update jupyter and ipywidgets. See https://ipywidgets.readthedocs.io/en/stable/user_install.html\n",
      "  from .autonotebook import tqdm as notebook_tqdm\n"
     ]
    }
   ],
   "source": [
    "import spacy\n",
    "import stanza"
   ]
  },
  {
   "cell_type": "code",
   "execution_count": 5,
   "id": "a36dca7d",
   "metadata": {},
   "outputs": [],
   "source": [
    "nlp_spacy = spacy.load(\"en_core_web_sm\") # Load the English language model"
   ]
  },
  {
   "cell_type": "code",
   "execution_count": 6,
   "id": "623c62fa",
   "metadata": {},
   "outputs": [
    {
     "name": "stderr",
     "output_type": "stream",
     "text": [
      "Downloading https://raw.githubusercontent.com/stanfordnlp/stanza-resources/main/resources_1.10.0.json: 428kB [00:00, 367MB/s]                     \n",
      "2025-05-31 16:53:54 INFO: Downloaded file to C:\\Users\\georg\\stanza_resources\\resources.json\n",
      "2025-05-31 16:53:54 INFO: Downloading default packages for language: en (English) ...\n",
      "2025-05-31 16:53:54 INFO: File exists: C:\\Users\\georg\\stanza_resources\\en\\default.zip\n",
      "2025-05-31 16:53:56 INFO: Finished downloading models and saved to C:\\Users\\georg\\stanza_resources\n",
      "2025-05-31 16:53:56 INFO: Checking for updates to resources.json in case models have been updated.  Note: this behavior can be turned off with download_method=None or download_method=DownloadMethod.REUSE_RESOURCES\n",
      "Downloading https://raw.githubusercontent.com/stanfordnlp/stanza-resources/main/resources_1.10.0.json: 428kB [00:00, 107MB/s]                     \n",
      "2025-05-31 16:53:56 INFO: Downloaded file to C:\\Users\\georg\\stanza_resources\\resources.json\n",
      "2025-05-31 16:53:57 INFO: Loading these models for language: en (English):\n",
      "============================================\n",
      "| Processor    | Package                   |\n",
      "--------------------------------------------\n",
      "| tokenize     | combined                  |\n",
      "| mwt          | combined                  |\n",
      "| pos          | combined_charlm           |\n",
      "| lemma        | combined_nocharlm         |\n",
      "| constituency | ptb3-revised_charlm       |\n",
      "| depparse     | combined_charlm           |\n",
      "| sentiment    | sstplus_charlm            |\n",
      "| ner          | ontonotes-ww-multi_charlm |\n",
      "============================================\n",
      "\n",
      "2025-05-31 16:53:57 INFO: Using device: cpu\n",
      "2025-05-31 16:53:57 INFO: Loading: tokenize\n",
      "2025-05-31 16:53:58 INFO: Loading: mwt\n",
      "2025-05-31 16:53:58 INFO: Loading: pos\n",
      "2025-05-31 16:53:59 INFO: Loading: lemma\n",
      "2025-05-31 16:53:59 INFO: Loading: constituency\n",
      "2025-05-31 16:54:00 INFO: Loading: depparse\n",
      "2025-05-31 16:54:00 INFO: Loading: sentiment\n",
      "2025-05-31 16:54:00 INFO: Loading: ner\n",
      "2025-05-31 16:54:01 INFO: Done loading processors!\n"
     ]
    }
   ],
   "source": [
    "stanza.download(\"en\") # Download the English language model\n",
    "nlp_stanza = stanza.Pipeline(\"en\") # Load the English language model"
   ]
  },
  {
   "cell_type": "markdown",
   "id": "d890a51f",
   "metadata": {},
   "source": [
    "## 4. Define Entity Extraction Functions\n",
    "\n",
    "We define helper functions to extract entities from a sentence using each library. The functions return a list of (entity text, entity label) pairs."
   ]
  },
  {
   "cell_type": "code",
   "execution_count": 7,
   "id": "a26b9cce",
   "metadata": {},
   "outputs": [],
   "source": [
    "def extract_entities_spacy(text): # Function to extract entities using spaCy \n",
    "    doc = nlp_spacy(text)\n",
    "    return [(ent.text, ent.label_) for ent in doc.ents]"
   ]
  },
  {
   "cell_type": "code",
   "execution_count": 8,
   "id": "3d1eac34",
   "metadata": {},
   "outputs": [],
   "source": [
    "def extract_entities_stanza(text): # Function to extract entities using stanza\n",
    "    doc = nlp_stanza(text)\n",
    "    return [(ent.text, ent.type) for sent in doc.sentences for ent in sent.ents]"
   ]
  },
  {
   "cell_type": "markdown",
   "id": "983ac953",
   "metadata": {},
   "source": [
    "## 5. Apply NER Systems\n",
    "\n",
    "We apply both spaCy and Stanza NER to each sentence and store the results in new columns."
   ]
  },
  {
   "cell_type": "code",
   "execution_count": 9,
   "id": "bc9e6350",
   "metadata": {},
   "outputs": [],
   "source": [
    "sentences['spacy_entities'] = sentences['sentence'].apply(extract_entities_spacy) # Apply the spaCy function to each sentence\n",
    "sentences['stanza_entities'] = sentences['sentence'].apply(extract_entities_stanza) # Apply the stanza function to each sentence"
   ]
  },
  {
   "cell_type": "code",
   "execution_count": 10,
   "id": "c935ad55",
   "metadata": {},
   "outputs": [],
   "source": [
    "def entities_to_bio_tags(tokens, entities):\n",
    "    bio_tags = ['O'] * len(tokens)\n",
    "    for start, end, label, _ in entities:\n",
    "        bio_tags[start] = 'B-' + label\n",
    "        for i in range(start + 1, end + 1):\n",
    "            bio_tags[i] = 'I-' + label\n",
    "    return bio_tags\n"
   ]
  },
  {
   "cell_type": "code",
   "execution_count": 13,
   "id": "40f0eff0",
   "metadata": {},
   "outputs": [],
   "source": [
    "def find_entity_span(tokens, entity_text):\n",
    "    entity_tokens = entity_text.split()\n",
    "    n = len(entity_tokens)\n",
    "    for i in range(len(tokens) - n + 1):\n",
    "        if tokens[i:i+n] == entity_tokens:\n",
    "            return (i, i+n-1)\n",
    "    return None\n"
   ]
  },
  {
   "cell_type": "code",
   "execution_count": 14,
   "id": "abfe0c09",
   "metadata": {},
   "outputs": [],
   "source": [
    "pred_entities_spacy = {}\n",
    "pred_entities_stanza = {}\n",
    "\n",
    "for idx, row in sentences.iterrows():\n",
    "    sent_id = row['sentence_id']\n",
    "    tokens = ner_test[ner_test['sentence_id'] == sent_id]['token'].tolist()\n",
    "\n",
    "    spacy_ents = []\n",
    "    for ent_text, ent_label in row['spacy_entities']:\n",
    "        span = find_entity_span(tokens, ent_text)\n",
    "        if span:\n",
    "            spacy_ents.append((span[0], span[1], ent_label, ent_text))\n",
    "    pred_entities_spacy[sent_id] = spacy_ents\n",
    "\n",
    "    stanza_ents = []\n",
    "    for ent_text, ent_label in row['stanza_entities']:\n",
    "        span = find_entity_span(tokens, ent_text)\n",
    "        if span:\n",
    "            stanza_ents.append((span[0], span[1], ent_label, ent_text))\n",
    "    pred_entities_stanza[sent_id] = stanza_ents\n"
   ]
  },
  {
   "cell_type": "code",
   "execution_count": 15,
   "id": "1159d8bf",
   "metadata": {},
   "outputs": [],
   "source": [
    "true_labels = []\n",
    "pred_labels_spacy = []\n",
    "pred_labels_stanza = []\n",
    "\n",
    "for sent_id, group in ner_test.groupby('sentence_id'):\n",
    "    tokens = group['token'].tolist()\n",
    "    true_tags = group['BIO_NER_tag'].tolist()\n",
    "\n",
    "    true_labels.extend(true_tags)\n",
    "\n",
    "    # Get predicted entities for this sentence\n",
    "    pred_ents_spacy = pred_entities_spacy.get(sent_id, [])\n",
    "    pred_ents_stanza = pred_entities_stanza.get(sent_id, [])\n",
    "\n",
    "    # Convert to BIO tags aligned with tokens\n",
    "    pred_tags_spacy = entities_to_bio_tags(tokens, pred_ents_spacy)\n",
    "    pred_tags_stanza = entities_to_bio_tags(tokens, pred_ents_stanza)\n",
    "\n",
    "    pred_labels_spacy.extend(pred_tags_spacy)\n",
    "    pred_labels_stanza.extend(pred_tags_stanza)\n"
   ]
  },
  {
   "cell_type": "code",
   "execution_count": 16,
   "id": "33bc93a9",
   "metadata": {},
   "outputs": [
    {
     "name": "stdout",
     "output_type": "stream",
     "text": [
      "=== spaCy NER Classification Report ===\n",
      "               precision    recall  f1-score   support\n",
      "\n",
      "   B-CARDINAL       0.00      0.00      0.00         0\n",
      "       B-DATE       0.00      0.00      0.00         0\n",
      "      B-EVENT       0.00      0.00      0.00         0\n",
      "        B-GPE       0.00      0.00      0.00         0\n",
      "   B-LOCATION       0.00      0.00      0.00         3\n",
      "        B-ORG       0.50      0.50      0.50         8\n",
      "     B-PERSON       0.75      0.75      0.75        12\n",
      "B-WORK_OF_ART       0.33      0.17      0.22         6\n",
      "       I-DATE       0.00      0.00      0.00         0\n",
      "      I-EVENT       0.00      0.00      0.00         0\n",
      "        I-GPE       0.00      0.00      0.00         0\n",
      "   I-LOCATION       0.00      0.00      0.00         2\n",
      "        I-ORG       0.57      0.80      0.67         5\n",
      "     I-PERSON       0.82      0.69      0.75        13\n",
      "I-WORK_OF_ART       0.33      0.12      0.18         8\n",
      "            O       0.94      0.93      0.94       159\n",
      "\n",
      "     accuracy                           0.81       216\n",
      "    macro avg       0.27      0.25      0.25       216\n",
      " weighted avg       0.84      0.81      0.82       216\n",
      "\n",
      "\n",
      "=== Stanza NER Classification Report ===\n",
      "               precision    recall  f1-score   support\n",
      "\n",
      "   B-CARDINAL       0.00      0.00      0.00         0\n",
      "       B-DATE       0.00      0.00      0.00         0\n",
      "      B-EVENT       0.00      0.00      0.00         0\n",
      "        B-FAC       0.00      0.00      0.00         0\n",
      "        B-GPE       0.00      0.00      0.00         0\n",
      "   B-LOCATION       0.00      0.00      0.00         3\n",
      "       B-NORP       0.00      0.00      0.00         0\n",
      "        B-ORG       0.67      0.50      0.57         8\n",
      "     B-PERSON       0.69      0.75      0.72        12\n",
      "B-WORK_OF_ART       0.67      0.33      0.44         6\n",
      "       I-DATE       0.00      0.00      0.00         0\n",
      "      I-EVENT       0.00      0.00      0.00         0\n",
      "        I-GPE       0.00      0.00      0.00         0\n",
      "   I-LOCATION       0.00      0.00      0.00         2\n",
      "        I-ORG       0.67      0.40      0.50         5\n",
      "     I-PERSON       0.77      0.77      0.77        13\n",
      "I-WORK_OF_ART       0.86      0.75      0.80         8\n",
      "            O       0.96      0.94      0.95       159\n",
      "\n",
      "     accuracy                           0.84       216\n",
      "    macro avg       0.29      0.25      0.26       216\n",
      " weighted avg       0.88      0.84      0.86       216\n",
      "\n"
     ]
    }
   ],
   "source": [
    "from sklearn.metrics import classification_report\n",
    "\n",
    "print(\"=== spaCy NER Classification Report ===\")\n",
    "print(classification_report(true_labels, pred_labels_spacy, zero_division=0))\n",
    "\n",
    "print(\"\\n=== Stanza NER Classification Report ===\")\n",
    "print(classification_report(true_labels, pred_labels_stanza, zero_division=0))\n"
   ]
  }
 ],
 "metadata": {
  "kernelspec": {
   "display_name": "main",
   "language": "python",
   "name": "python3"
  },
  "language_info": {
   "codemirror_mode": {
    "name": "ipython",
    "version": 3
   },
   "file_extension": ".py",
   "mimetype": "text/x-python",
   "name": "python",
   "nbconvert_exporter": "python",
   "pygments_lexer": "ipython3",
   "version": "3.12.3"
  }
 },
 "nbformat": 4,
 "nbformat_minor": 5
}
