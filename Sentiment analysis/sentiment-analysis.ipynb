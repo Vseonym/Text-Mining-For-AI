{
 "cells": [
  {
   "cell_type": "markdown",
   "id": "ee7bcb5e",
   "metadata": {},
   "source": [
    "### Imports"
   ]
  },
  {
   "cell_type": "code",
   "execution_count": 1,
   "id": "bd5050be",
   "metadata": {},
   "outputs": [
    {
     "name": "stderr",
     "output_type": "stream",
     "text": [
      "c:\\Users\\georg\\anaconda3\\envs\\TextMining310\\lib\\site-packages\\requests\\__init__.py:86: RequestsDependencyWarning: Unable to find acceptable character detection dependency (chardet or charset_normalizer).\n",
      "  warnings.warn(\n",
      "c:\\Users\\georg\\anaconda3\\envs\\TextMining310\\lib\\site-packages\\tqdm\\auto.py:21: TqdmWarning: IProgress not found. Please update jupyter and ipywidgets. See https://ipywidgets.readthedocs.io/en/stable/user_install.html\n",
      "  from .autonotebook import tqdm as notebook_tqdm\n",
      "W0529 17:03:59.871000 25248 site-packages\\torch\\distributed\\elastic\\multiprocessing\\redirects.py:29] NOTE: Redirects are currently not supported in Windows or MacOs.\n"
     ]
    }
   ],
   "source": [
    "import os\n",
    "os.environ[\"WANDB_DISABLED\"] = \"true\" # to disable usage of API token\n",
    "\n",
    "from datasets import load_dataset\n",
    "import numpy as np\n",
    "import torch\n",
    "import pandas as pd\n",
    "from transformers import (\n",
    "    AutoTokenizer, AutoModelForSequenceClassification, Trainer, TrainingArguments,\n",
    "    DataCollatorWithPadding, set_seed, EarlyStoppingCallback,\n",
    ")\n",
    "from sklearn.metrics import accuracy_score, precision_recall_fscore_support, classification_report, confusion_matrix\n",
    "set_seed(42) #for reproducibility"
   ]
  },
  {
   "cell_type": "markdown",
   "id": "a8cf0401",
   "metadata": {},
   "source": [
    "### Load dataset and print its structure"
   ]
  },
  {
   "cell_type": "code",
   "execution_count": 2,
   "id": "7b3580a8",
   "metadata": {},
   "outputs": [
    {
     "name": "stdout",
     "output_type": "stream",
     "text": [
      "Number of training instances: 31232\n",
      "Example of training instance: {'id': 9536, 'text': 'Cooking microwave pizzas, yummy', 'label': 2, 'sentiment': 'positive'}\n"
     ]
    }
   ],
   "source": [
    "dataset = load_dataset(\"Sp1786/multiclass-sentiment-analysis-dataset\")\n",
    "\n",
    "print(f\"Number of training instances: {len(dataset['train'])}\")\n",
    "print(f\"Example of training instance: {dataset['train'][0]}\")"
   ]
  },
  {
   "cell_type": "markdown",
   "id": "2ab2279b",
   "metadata": {},
   "source": [
    "### Define model and tokonizer"
   ]
  },
  {
   "cell_type": "code",
   "execution_count": 3,
   "id": "ca37929b",
   "metadata": {},
   "outputs": [
    {
     "name": "stderr",
     "output_type": "stream",
     "text": [
      "c:\\Users\\georg\\anaconda3\\envs\\TextMining310\\lib\\site-packages\\huggingface_hub\\file_download.py:943: FutureWarning: `resume_download` is deprecated and will be removed in version 1.0.0. Downloads always resume when possible. If you want to force a new download, use `force_download=True`.\n",
      "  warnings.warn(\n",
      "Some weights of DistilBertForSequenceClassification were not initialized from the model checkpoint at distilbert-base-uncased and are newly initialized: ['classifier.bias', 'classifier.weight', 'pre_classifier.bias', 'pre_classifier.weight']\n",
      "You should probably TRAIN this model on a down-stream task to be able to use it for predictions and inference.\n"
     ]
    }
   ],
   "source": [
    "model_name = \"distilbert-base-uncased\"\n",
    "num_labels = 3\n",
    "\n",
    "tokenizer = AutoTokenizer.from_pretrained(model_name)\n",
    "model = AutoModelForSequenceClassification.from_pretrained(model_name, num_labels=num_labels)"
   ]
  },
  {
   "cell_type": "markdown",
   "id": "4488fe51",
   "metadata": {},
   "source": [
    "### Filter data to not allow None type texts"
   ]
  },
  {
   "cell_type": "code",
   "execution_count": 4,
   "id": "0d891fa4",
   "metadata": {},
   "outputs": [
    {
     "name": "stderr",
     "output_type": "stream",
     "text": [
      "Filter: 100%|██████████| 5206/5206 [00:00<00:00, 81502.99 examples/s]\n"
     ]
    }
   ],
   "source": [
    "def filter_valid_text(example):\n",
    "    return example['text'] is not None\n",
    "\n",
    "dataset['test'] = dataset['test'].filter(filter_valid_text)\n"
   ]
  },
  {
   "cell_type": "markdown",
   "id": "6ba6ae20",
   "metadata": {},
   "source": [
    "### Make sure you use CUDA if avaliable"
   ]
  },
  {
   "cell_type": "code",
   "execution_count": 5,
   "id": "420365ab",
   "metadata": {},
   "outputs": [
    {
     "name": "stdout",
     "output_type": "stream",
     "text": [
      "CUDA available: True\n",
      "Current device: 0\n",
      "Device name: NVIDIA GeForce RTX 2070\n"
     ]
    },
    {
     "data": {
      "text/plain": [
       "DistilBertForSequenceClassification(\n",
       "  (distilbert): DistilBertModel(\n",
       "    (embeddings): Embeddings(\n",
       "      (word_embeddings): Embedding(30522, 768, padding_idx=0)\n",
       "      (position_embeddings): Embedding(512, 768)\n",
       "      (LayerNorm): LayerNorm((768,), eps=1e-12, elementwise_affine=True)\n",
       "      (dropout): Dropout(p=0.1, inplace=False)\n",
       "    )\n",
       "    (transformer): Transformer(\n",
       "      (layer): ModuleList(\n",
       "        (0-5): 6 x TransformerBlock(\n",
       "          (attention): MultiHeadSelfAttention(\n",
       "            (dropout): Dropout(p=0.1, inplace=False)\n",
       "            (q_lin): Linear(in_features=768, out_features=768, bias=True)\n",
       "            (k_lin): Linear(in_features=768, out_features=768, bias=True)\n",
       "            (v_lin): Linear(in_features=768, out_features=768, bias=True)\n",
       "            (out_lin): Linear(in_features=768, out_features=768, bias=True)\n",
       "          )\n",
       "          (sa_layer_norm): LayerNorm((768,), eps=1e-12, elementwise_affine=True)\n",
       "          (ffn): FFN(\n",
       "            (dropout): Dropout(p=0.1, inplace=False)\n",
       "            (lin1): Linear(in_features=768, out_features=3072, bias=True)\n",
       "            (lin2): Linear(in_features=3072, out_features=768, bias=True)\n",
       "            (activation): GELUActivation()\n",
       "          )\n",
       "          (output_layer_norm): LayerNorm((768,), eps=1e-12, elementwise_affine=True)\n",
       "        )\n",
       "      )\n",
       "    )\n",
       "  )\n",
       "  (pre_classifier): Linear(in_features=768, out_features=768, bias=True)\n",
       "  (classifier): Linear(in_features=768, out_features=3, bias=True)\n",
       "  (dropout): Dropout(p=0.2, inplace=False)\n",
       ")"
      ]
     },
     "execution_count": 5,
     "metadata": {},
     "output_type": "execute_result"
    }
   ],
   "source": [
    "print(\"CUDA available:\", torch.cuda.is_available())\n",
    "print(\"Current device:\", torch.cuda.current_device() if torch.cuda.is_available() else \"CPU\")\n",
    "print(\"Device name:\", torch.cuda.get_device_name(0) if torch.cuda.is_available() else \"CPU\")\n",
    "device = torch.device(\"cuda\" if torch.cuda.is_available() else \"cpu\")\n",
    "model.to(device)"
   ]
  },
  {
   "cell_type": "markdown",
   "id": "1b8f44e7",
   "metadata": {},
   "source": [
    "### Training process and evaluation (IMPROTANT: THE EVALUATION IS NOT ON THE FINAL TEST DATASET)"
   ]
  },
  {
   "cell_type": "code",
   "execution_count": 6,
   "id": "db13d3e5",
   "metadata": {},
   "outputs": [
    {
     "name": "stderr",
     "output_type": "stream",
     "text": [
      "Map: 100%|██████████| 31232/31232 [00:02<00:00, 14558.50 examples/s]\n",
      "Map: 100%|██████████| 5205/5205 [00:00<00:00, 16713.56 examples/s]\n",
      "Map: 100%|██████████| 5205/5205 [00:00<00:00, 11208.72 examples/s]\n",
      "Using the `WANDB_DISABLED` environment variable is deprecated and will be removed in v5. Use the --report_to flag to control the integrations used for logging result (for instance --report_to none).\n",
      "  5%|▌         | 500/9760 [02:00<37:22,  4.13it/s]"
     ]
    },
    {
     "name": "stdout",
     "output_type": "stream",
     "text": [
      "{'loss': 0.6964, 'grad_norm': 4.78527307510376, 'learning_rate': 1.8975409836065574e-05, 'epoch': 0.51}\n"
     ]
    },
    {
     "name": "stderr",
     "output_type": "stream",
     "text": [
      "                                                  \n",
      " 10%|█         | 976/9760 [04:12<36:46,  3.98it/s]"
     ]
    },
    {
     "name": "stdout",
     "output_type": "stream",
     "text": [
      "{'eval_loss': 0.5888040065765381, 'eval_accuracy': 0.7513928914505283, 'eval_f1': 0.7524737834123425, 'eval_precision': 0.759790256753315, 'eval_recall': 0.7513928914505283, 'eval_runtime': 14.7666, 'eval_samples_per_second': 352.484, 'eval_steps_per_second': 11.038, 'epoch': 1.0}\n"
     ]
    },
    {
     "name": "stderr",
     "output_type": "stream",
     "text": [
      " 10%|█         | 1000/9760 [04:19<38:16,  3.81it/s]  "
     ]
    },
    {
     "name": "stdout",
     "output_type": "stream",
     "text": [
      "{'loss': 0.6016, 'grad_norm': 5.0308837890625, 'learning_rate': 1.795081967213115e-05, 'epoch': 1.02}\n"
     ]
    },
    {
     "name": "stderr",
     "output_type": "stream",
     "text": [
      " 15%|█▌        | 1500/9760 [06:33<37:03,  3.71it/s]"
     ]
    },
    {
     "name": "stdout",
     "output_type": "stream",
     "text": [
      "{'loss': 0.5081, 'grad_norm': 3.0630950927734375, 'learning_rate': 1.6926229508196722e-05, 'epoch': 1.54}\n"
     ]
    },
    {
     "name": "stderr",
     "output_type": "stream",
     "text": [
      "                                                   \n",
      " 20%|██        | 1952/9760 [08:49<34:45,  3.74it/s]"
     ]
    },
    {
     "name": "stdout",
     "output_type": "stream",
     "text": [
      "{'eval_loss': 0.5711972117424011, 'eval_accuracy': 0.7617675312199808, 'eval_f1': 0.7624628660887482, 'eval_precision': 0.7637008806225252, 'eval_recall': 0.7617675312199808, 'eval_runtime': 14.5838, 'eval_samples_per_second': 356.902, 'eval_steps_per_second': 11.177, 'epoch': 2.0}\n"
     ]
    },
    {
     "name": "stderr",
     "output_type": "stream",
     "text": [
      " 20%|██        | 2000/9760 [09:04<34:29,  3.75it/s]   "
     ]
    },
    {
     "name": "stdout",
     "output_type": "stream",
     "text": [
      "{'loss': 0.4879, 'grad_norm': 5.2484846115112305, 'learning_rate': 1.5901639344262295e-05, 'epoch': 2.05}\n"
     ]
    },
    {
     "name": "stderr",
     "output_type": "stream",
     "text": [
      " 26%|██▌       | 2500/9760 [11:18<32:21,  3.74it/s]"
     ]
    },
    {
     "name": "stdout",
     "output_type": "stream",
     "text": [
      "{'loss': 0.397, 'grad_norm': 7.1436262130737305, 'learning_rate': 1.4877049180327869e-05, 'epoch': 2.56}\n"
     ]
    },
    {
     "name": "stderr",
     "output_type": "stream",
     "text": [
      "                                                   \n",
      " 30%|███       | 2928/9760 [13:26<30:22,  3.75it/s]"
     ]
    },
    {
     "name": "stdout",
     "output_type": "stream",
     "text": [
      "{'eval_loss': 0.6225201487541199, 'eval_accuracy': 0.7552353506243996, 'eval_f1': 0.7547927585710251, 'eval_precision': 0.7544927610323205, 'eval_recall': 0.7552353506243996, 'eval_runtime': 14.6865, 'eval_samples_per_second': 354.407, 'eval_steps_per_second': 11.099, 'epoch': 3.0}\n"
     ]
    },
    {
     "name": "stderr",
     "output_type": "stream",
     "text": [
      " 31%|███       | 3000/9760 [13:48<30:11,  3.73it/s]   "
     ]
    },
    {
     "name": "stdout",
     "output_type": "stream",
     "text": [
      "{'loss': 0.3904, 'grad_norm': 10.01522159576416, 'learning_rate': 1.3852459016393445e-05, 'epoch': 3.07}\n"
     ]
    },
    {
     "name": "stderr",
     "output_type": "stream",
     "text": [
      " 36%|███▌      | 3500/9760 [16:02<27:47,  3.75it/s]"
     ]
    },
    {
     "name": "stdout",
     "output_type": "stream",
     "text": [
      "{'loss': 0.2975, 'grad_norm': 9.432467460632324, 'learning_rate': 1.2827868852459017e-05, 'epoch': 3.59}\n"
     ]
    },
    {
     "name": "stderr",
     "output_type": "stream",
     "text": [
      "                                                   \n",
      " 40%|████      | 3904/9760 [18:05<25:54,  3.77it/s]"
     ]
    },
    {
     "name": "stdout",
     "output_type": "stream",
     "text": [
      "{'eval_loss': 0.7500736117362976, 'eval_accuracy': 0.753314121037464, 'eval_f1': 0.7529401159490584, 'eval_precision': 0.7528709956108933, 'eval_recall': 0.753314121037464, 'eval_runtime': 14.7315, 'eval_samples_per_second': 353.325, 'eval_steps_per_second': 11.065, 'epoch': 4.0}\n"
     ]
    },
    {
     "name": "stderr",
     "output_type": "stream",
     "text": [
      " 40%|████      | 3904/9760 [18:07<27:11,  3.59it/s]\n"
     ]
    },
    {
     "name": "stdout",
     "output_type": "stream",
     "text": [
      "{'train_runtime': 1087.4862, 'train_samples_per_second': 287.194, 'train_steps_per_second': 8.975, 'train_loss': 0.4631987419284758, 'epoch': 4.0}\n",
      "Evaluating on test set:\n"
     ]
    },
    {
     "name": "stderr",
     "output_type": "stream",
     "text": [
      "100%|██████████| 163/163 [00:14<00:00, 11.00it/s]"
     ]
    },
    {
     "name": "stdout",
     "output_type": "stream",
     "text": [
      "eval_loss: 0.5788\n",
      "eval_accuracy: 0.7675\n",
      "eval_f1: 0.7676\n",
      "eval_precision: 0.7678\n",
      "eval_recall: 0.7675\n",
      "eval_runtime: 15.0157\n",
      "eval_samples_per_second: 346.6360\n",
      "eval_steps_per_second: 10.8550\n",
      "epoch: 4.0000\n"
     ]
    },
    {
     "name": "stderr",
     "output_type": "stream",
     "text": [
      "\n"
     ]
    }
   ],
   "source": [
    "def preprocess_function(examples):\n",
    "    return tokenizer(examples['text'], truncation=True, padding=\"max_length\", max_length=128)\n",
    "\n",
    "tokenized_datasets = dataset.map(preprocess_function, batched=True)\n",
    "tokenized_datasets = tokenized_datasets.rename_column(\"label\", \"labels\")\n",
    "tokenized_datasets.set_format(\"torch\", columns=[\"input_ids\", \"attention_mask\", \"labels\"])\n",
    "\n",
    "data_collator = DataCollatorWithPadding(tokenizer=tokenizer)\n",
    "\n",
    "def compute_metrics(eval_pred):\n",
    "    logits, labels = eval_pred\n",
    "    predictions = np.argmax(logits, axis=-1)\n",
    "    precision, recall, f1, _ = precision_recall_fscore_support(labels, predictions, average='weighted')\n",
    "    acc = accuracy_score(labels, predictions)\n",
    "    return {'accuracy': acc, 'f1': f1, 'precision': precision, 'recall': recall}\n",
    "\n",
    "training_args = TrainingArguments(\n",
    "    output_dir=\"./bert-finetuned\",\n",
    "    evaluation_strategy=\"epoch\", \n",
    "    save_strategy=\"epoch\", \n",
    "    learning_rate=2e-5,\n",
    "    per_device_train_batch_size=32,\n",
    "    per_device_eval_batch_size=32,\n",
    "    num_train_epochs=10,\n",
    "    weight_decay=0.1,\n",
    "    save_total_limit=2,\n",
    "    load_best_model_at_end=True,\n",
    ")\n",
    "\n",
    "trainer = Trainer(\n",
    "    model=model,\n",
    "    args=training_args,\n",
    "    train_dataset=tokenized_datasets[\"train\"],\n",
    "    eval_dataset=tokenized_datasets[\"validation\"],\n",
    "    data_collator=data_collator,\n",
    "    compute_metrics=compute_metrics,\n",
    "    callbacks=[EarlyStoppingCallback(early_stopping_patience=2)],\n",
    ")\n",
    "\n",
    "trainer.train()\n",
    "\n",
    "print(\"Evaluating on test set:\")\n",
    "test_results = trainer.evaluate(tokenized_datasets[\"test\"])\n",
    "for key, value in test_results.items():\n",
    "    print(f\"{key}: {value:.4f}\")"
   ]
  },
  {
   "cell_type": "markdown",
   "id": "30b2b354",
   "metadata": {},
   "source": [
    "### Load the model from the checkpoint if needed and evaluate it on FINAL DATASET"
   ]
  },
  {
   "cell_type": "code",
   "execution_count": 7,
   "id": "a863bec5",
   "metadata": {},
   "outputs": [
    {
     "name": "stderr",
     "output_type": "stream",
     "text": [
      "c:\\Users\\georg\\anaconda3\\envs\\TextMining310\\lib\\site-packages\\huggingface_hub\\file_download.py:943: FutureWarning: `resume_download` is deprecated and will be removed in version 1.0.0. Downloads always resume when possible. If you want to force a new download, use `force_download=True`.\n",
      "  warnings.warn(\n"
     ]
    },
    {
     "name": "stdout",
     "output_type": "stream",
     "text": [
      "Classification Report:\n",
      "              precision    recall  f1-score   support\n",
      "\n",
      "    negative       0.80      0.67      0.73         6\n",
      "     neutral       0.67      0.67      0.67         6\n",
      "    positive       0.57      0.67      0.62         6\n",
      "\n",
      "    accuracy                           0.67        18\n",
      "   macro avg       0.68      0.67      0.67        18\n",
      "weighted avg       0.68      0.67      0.67        18\n",
      "\n",
      "\n",
      "Confusion Matrix:\n",
      "[[4 1 1]\n",
      " [0 4 2]\n",
      " [1 1 4]]\n",
      "Sentence: The stadium was alive with the roar of the crowd after that incredible win., true label: positive, predicted labels: positive\n",
      "Sentence: That last-minute goal had me jumping out of my seat—what an unbelievable finish!, true label: positive, predicted labels: positive\n",
      "Sentence: I couldn’t put the book down; it swept me into a whole new world., true label: positive, predicted labels: negative\n",
      "Sentence: The story had its moments, though some parts felt like they dragged on a bit., true label: neutral, predicted labels: neutral\n",
      "Sentence: I enjoyed the way the timelines shifted, even if it got a little confusing sometimes., true label: neutral, predicted labels: positive\n",
      "Sentence: Every time I watch this movie, I notice something new—it really grows on you., true label: positive, predicted labels: positive\n",
      "Sentence: The movie was a wild ride from start to finish; I was on the edge of my seat the entire time., true label: positive, predicted labels: neutral\n",
      "Sentence: Honestly, the team just fell apart in the second half, and it showed on the field., true label: negative, predicted labels: neutral\n",
      "Sentence: No surprise there—the coach rested a few players given how packed the schedule was., true label: neutral, predicted labels: neutral\n",
      "Sentence: The trailer was decent, giving you a taste without spilling all the secrets., true label: neutral, predicted labels: positive\n",
      "Sentence: I found the main character so annoying that it was hard to care about what happened next., true label: negative, predicted labels: negative\n",
      "Sentence: The author's style feels really genuine, making each sentence resonate., true label: positive, predicted labels: positive\n",
      "Sentence: The movie never really clicked for me; the leads just lacked any real spark., true label: negative, predicted labels: negative\n",
      "Sentence: Both teams are playing it safe right now, so it's hard to tell who’ll eventually take the lead., true label: neutral, predicted labels: neutral\n",
      "Sentence: Frankly, I don’t get the hype—it’s just a game after all., true label: negative, predicted labels: negative\n",
      "Sentence: Word is, the screenplay was scribbled down during a casual coffee break at a busy cafe., true label: neutral, predicted labels: neutral\n",
      "Sentence: It’s surprising how a promising start could unravel into such a disappointing finish., true label: negative, predicted labels: negative\n",
      "Sentence: In the end, the book was more useful as a coaster than as something worth reading., true label: negative, predicted labels: positive\n"
     ]
    }
   ],
   "source": [
    "modelpath = \"bert-finetuned/checkpoint-3904\" #change if needed\n",
    "model = AutoModelForSequenceClassification.from_pretrained(\n",
    "    modelpath,\n",
    "    torch_dtype=torch.bfloat16,\n",
    ")\n",
    "tokenizer = AutoTokenizer.from_pretrained(model_name)\n",
    "\n",
    "df = pd.read_csv(\"../test-datasets/sentiment-topic-test.tsv\", sep=\"\\t\")\n",
    "sentences = df[\"sentence\"].tolist()\n",
    "true_labels = df[\"sentiment\"].tolist()\n",
    "\n",
    "model.eval()\n",
    "inputs = tokenizer(sentences, padding=True, truncation=True, return_tensors=\"pt\")\n",
    "\n",
    "with torch.no_grad():\n",
    "    outputs = model(**inputs)\n",
    "    logits = outputs.logits\n",
    "    predictions = torch.argmax(logits, dim=-1)\n",
    "\n",
    "label_map = {0: \"negative\", 1: \"neutral\", 2: \"positive\"}\n",
    "inverse_label_map = {v: k for k, v in label_map.items()}\n",
    "predicted_labels = [label_map[p.item()] for p in predictions]\n",
    "true_label_ids = [inverse_label_map[label] for label in true_labels]\n",
    "\n",
    "print(\"Classification Report:\")\n",
    "print(classification_report(true_labels, predicted_labels))\n",
    "\n",
    "print(\"\\nConfusion Matrix:\")\n",
    "print(confusion_matrix(true_labels, predicted_labels, labels=[\"negative\", \"neutral\", \"positive\"]))\n",
    "\n",
    "for index in range(len(sentences)):\n",
    "    print(f\"Sentence: {sentences[index]}, true label: {true_labels[index]}, predicted labels: {predicted_labels[index]}\")"
   ]
  }
 ],
 "metadata": {
  "kernelspec": {
   "display_name": "TextMining310",
   "language": "python",
   "name": "python3"
  },
  "language_info": {
   "codemirror_mode": {
    "name": "ipython",
    "version": 3
   },
   "file_extension": ".py",
   "mimetype": "text/x-python",
   "name": "python",
   "nbconvert_exporter": "python",
   "pygments_lexer": "ipython3",
   "version": "3.10.16"
  }
 },
 "nbformat": 4,
 "nbformat_minor": 5
}
