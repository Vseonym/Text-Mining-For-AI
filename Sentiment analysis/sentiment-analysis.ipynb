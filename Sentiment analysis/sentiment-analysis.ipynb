{
 "cells": [
  {
   "cell_type": "markdown",
   "id": "ee7bcb5e",
   "metadata": {},
   "source": [
    "Sentiment analysis"
   ]
  },
  {
   "cell_type": "code",
   "execution_count": 17,
   "id": "bd5050be",
   "metadata": {},
   "outputs": [],
   "source": [
    "import os\n",
    "os.environ[\"WANDB_DISABLED\"] = \"true\"\n",
    "\n",
    "from datasets import load_dataset\n",
    "import numpy as np\n",
    "import pandas as pd\n",
    "from transformers import (\n",
    "    AutoTokenizer, AutoModelForSequenceClassification, Trainer, TrainingArguments,\n",
    "    DataCollatorWithPadding, set_seed, EarlyStoppingCallback,\n",
    ")\n",
    "from sklearn.metrics import accuracy_score, precision_recall_fscore_support, classification_report, confusion_matrix\n",
    "set_seed(42)"
   ]
  },
  {
   "cell_type": "code",
   "execution_count": 2,
   "id": "7b3580a8",
   "metadata": {},
   "outputs": [
    {
     "name": "stdout",
     "output_type": "stream",
     "text": [
      "Number of training instances: 31232\n",
      "Example of training instance: {'id': 9536, 'text': 'Cooking microwave pizzas, yummy', 'label': 2, 'sentiment': 'positive'}\n"
     ]
    }
   ],
   "source": [
    "dataset = load_dataset(\"Sp1786/multiclass-sentiment-analysis-dataset\")\n",
    "\n",
    "print(f\"Number of training instances: {len(dataset['train'])}\")\n",
    "print(f\"Example of training instance: {dataset['train'][0]}\")"
   ]
  },
  {
   "cell_type": "code",
   "execution_count": 3,
   "id": "ca37929b",
   "metadata": {},
   "outputs": [
    {
     "name": "stderr",
     "output_type": "stream",
     "text": [
      "Some weights of DistilBertForSequenceClassification were not initialized from the model checkpoint at distilbert-base-uncased and are newly initialized: ['classifier.bias', 'classifier.weight', 'pre_classifier.bias', 'pre_classifier.weight']\n",
      "You should probably TRAIN this model on a down-stream task to be able to use it for predictions and inference.\n"
     ]
    }
   ],
   "source": [
    "model_name = \"distilbert-base-uncased\"\n",
    "num_labels = 3\n",
    "\n",
    "tokenizer = AutoTokenizer.from_pretrained(model_name)\n",
    "model = AutoModelForSequenceClassification.from_pretrained(model_name, num_labels=num_labels)"
   ]
  },
  {
   "cell_type": "code",
   "execution_count": 4,
   "id": "0d891fa4",
   "metadata": {},
   "outputs": [],
   "source": [
    "def filter_valid_text(example):\n",
    "    return example['text'] is not None\n",
    "\n",
    "dataset['test'] = dataset['test'].filter(filter_valid_text)\n"
   ]
  },
  {
   "cell_type": "code",
   "execution_count": 5,
   "id": "420365ab",
   "metadata": {},
   "outputs": [
    {
     "name": "stdout",
     "output_type": "stream",
     "text": [
      "CUDA available: True\n",
      "Current device: 0\n",
      "Device name: NVIDIA GeForce RTX 2070\n"
     ]
    },
    {
     "data": {
      "text/plain": [
       "DistilBertForSequenceClassification(\n",
       "  (distilbert): DistilBertModel(\n",
       "    (embeddings): Embeddings(\n",
       "      (word_embeddings): Embedding(30522, 768, padding_idx=0)\n",
       "      (position_embeddings): Embedding(512, 768)\n",
       "      (LayerNorm): LayerNorm((768,), eps=1e-12, elementwise_affine=True)\n",
       "      (dropout): Dropout(p=0.1, inplace=False)\n",
       "    )\n",
       "    (transformer): Transformer(\n",
       "      (layer): ModuleList(\n",
       "        (0-5): 6 x TransformerBlock(\n",
       "          (attention): DistilBertSdpaAttention(\n",
       "            (dropout): Dropout(p=0.1, inplace=False)\n",
       "            (q_lin): Linear(in_features=768, out_features=768, bias=True)\n",
       "            (k_lin): Linear(in_features=768, out_features=768, bias=True)\n",
       "            (v_lin): Linear(in_features=768, out_features=768, bias=True)\n",
       "            (out_lin): Linear(in_features=768, out_features=768, bias=True)\n",
       "          )\n",
       "          (sa_layer_norm): LayerNorm((768,), eps=1e-12, elementwise_affine=True)\n",
       "          (ffn): FFN(\n",
       "            (dropout): Dropout(p=0.1, inplace=False)\n",
       "            (lin1): Linear(in_features=768, out_features=3072, bias=True)\n",
       "            (lin2): Linear(in_features=3072, out_features=768, bias=True)\n",
       "            (activation): GELUActivation()\n",
       "          )\n",
       "          (output_layer_norm): LayerNorm((768,), eps=1e-12, elementwise_affine=True)\n",
       "        )\n",
       "      )\n",
       "    )\n",
       "  )\n",
       "  (pre_classifier): Linear(in_features=768, out_features=768, bias=True)\n",
       "  (classifier): Linear(in_features=768, out_features=3, bias=True)\n",
       "  (dropout): Dropout(p=0.2, inplace=False)\n",
       ")"
      ]
     },
     "execution_count": 5,
     "metadata": {},
     "output_type": "execute_result"
    }
   ],
   "source": [
    "import torch\n",
    "print(\"CUDA available:\", torch.cuda.is_available())\n",
    "print(\"Current device:\", torch.cuda.current_device() if torch.cuda.is_available() else \"CPU\")\n",
    "print(\"Device name:\", torch.cuda.get_device_name(0) if torch.cuda.is_available() else \"CPU\")\n",
    "device = torch.device(\"cuda\" if torch.cuda.is_available() else \"cpu\")\n",
    "model.to(device)"
   ]
  },
  {
   "cell_type": "code",
   "execution_count": 8,
   "id": "db13d3e5",
   "metadata": {},
   "outputs": [
    {
     "name": "stderr",
     "output_type": "stream",
     "text": [
      "Using the `WANDB_DISABLED` environment variable is deprecated and will be removed in v5. Use the --report_to flag to control the integrations used for logging result (for instance --report_to none).\n"
     ]
    },
    {
     "data": {
      "text/html": [
       "\n",
       "    <div>\n",
       "      \n",
       "      <progress value='3904' max='9760' style='width:300px; height:20px; vertical-align: middle;'></progress>\n",
       "      [3904/9760 22:41 < 34:04, 2.86 it/s, Epoch 4/10]\n",
       "    </div>\n",
       "    <table border=\"1\" class=\"dataframe\">\n",
       "  <thead>\n",
       " <tr style=\"text-align: left;\">\n",
       "      <th>Epoch</th>\n",
       "      <th>Training Loss</th>\n",
       "      <th>Validation Loss</th>\n",
       "      <th>Accuracy</th>\n",
       "      <th>F1</th>\n",
       "      <th>Precision</th>\n",
       "      <th>Recall</th>\n",
       "    </tr>\n",
       "  </thead>\n",
       "  <tbody>\n",
       "    <tr>\n",
       "      <td>1</td>\n",
       "      <td>0.697700</td>\n",
       "      <td>0.586045</td>\n",
       "      <td>0.754467</td>\n",
       "      <td>0.754863</td>\n",
       "      <td>0.758025</td>\n",
       "      <td>0.754467</td>\n",
       "    </tr>\n",
       "    <tr>\n",
       "      <td>2</td>\n",
       "      <td>0.507600</td>\n",
       "      <td>0.571542</td>\n",
       "      <td>0.762920</td>\n",
       "      <td>0.763687</td>\n",
       "      <td>0.765031</td>\n",
       "      <td>0.762920</td>\n",
       "    </tr>\n",
       "    <tr>\n",
       "      <td>3</td>\n",
       "      <td>0.397900</td>\n",
       "      <td>0.627400</td>\n",
       "      <td>0.759462</td>\n",
       "      <td>0.758869</td>\n",
       "      <td>0.758618</td>\n",
       "      <td>0.759462</td>\n",
       "    </tr>\n",
       "    <tr>\n",
       "      <td>4</td>\n",
       "      <td>0.298400</td>\n",
       "      <td>0.745823</td>\n",
       "      <td>0.748895</td>\n",
       "      <td>0.749793</td>\n",
       "      <td>0.751434</td>\n",
       "      <td>0.748895</td>\n",
       "    </tr>\n",
       "  </tbody>\n",
       "</table><p>"
      ],
      "text/plain": [
       "<IPython.core.display.HTML object>"
      ]
     },
     "metadata": {},
     "output_type": "display_data"
    },
    {
     "name": "stdout",
     "output_type": "stream",
     "text": [
      "Evaluating on test set:\n"
     ]
    },
    {
     "data": {
      "text/html": [
       "\n",
       "    <div>\n",
       "      \n",
       "      <progress value='163' max='163' style='width:300px; height:20px; vertical-align: middle;'></progress>\n",
       "      [163/163 00:20]\n",
       "    </div>\n",
       "    "
      ],
      "text/plain": [
       "<IPython.core.display.HTML object>"
      ]
     },
     "metadata": {},
     "output_type": "display_data"
    },
    {
     "name": "stdout",
     "output_type": "stream",
     "text": [
      "eval_loss: 0.5770\n",
      "eval_accuracy: 0.7664\n",
      "eval_f1: 0.7668\n",
      "eval_precision: 0.7674\n",
      "eval_recall: 0.7664\n",
      "eval_runtime: 20.1520\n",
      "eval_samples_per_second: 258.2860\n",
      "eval_steps_per_second: 8.0890\n",
      "epoch: 4.0000\n"
     ]
    }
   ],
   "source": [
    "def preprocess_function(examples):\n",
    "    return tokenizer(examples['text'], truncation=True, padding=\"max_length\", max_length=128)\n",
    "\n",
    "tokenized_datasets = dataset.map(preprocess_function, batched=True)\n",
    "tokenized_datasets = tokenized_datasets.rename_column(\"label\", \"labels\")\n",
    "tokenized_datasets.set_format(\"torch\", columns=[\"input_ids\", \"attention_mask\", \"labels\"])\n",
    "\n",
    "data_collator = DataCollatorWithPadding(tokenizer=tokenizer)\n",
    "\n",
    "def compute_metrics(eval_pred):\n",
    "    logits, labels = eval_pred\n",
    "    predictions = np.argmax(logits, axis=-1)\n",
    "    precision, recall, f1, _ = precision_recall_fscore_support(labels, predictions, average='weighted')\n",
    "    acc = accuracy_score(labels, predictions)\n",
    "    return {'accuracy': acc, 'f1': f1, 'precision': precision, 'recall': recall}\n",
    "\n",
    "training_args = TrainingArguments(\n",
    "    output_dir=\"./bert-finetuned\",\n",
    "    evaluation_strategy=\"epoch\", \n",
    "    save_strategy=\"epoch\", \n",
    "    learning_rate=2e-5,\n",
    "    per_device_train_batch_size=32,\n",
    "    per_device_eval_batch_size=32,\n",
    "    num_train_epochs=10,\n",
    "    weight_decay=0.1,\n",
    "    save_total_limit=2,\n",
    "    load_best_model_at_end=True,\n",
    ")\n",
    "\n",
    "trainer = Trainer(\n",
    "    model=model,\n",
    "    args=training_args,\n",
    "    train_dataset=tokenized_datasets[\"train\"],\n",
    "    eval_dataset=tokenized_datasets[\"validation\"],\n",
    "    data_collator=data_collator,\n",
    "    compute_metrics=compute_metrics,\n",
    "    callbacks=[EarlyStoppingCallback(early_stopping_patience=2)],\n",
    ")\n",
    "\n",
    "trainer.train()\n",
    "\n",
    "print(\"Evaluating on test set:\")\n",
    "test_results = trainer.evaluate(tokenized_datasets[\"test\"])\n",
    "for key, value in test_results.items():\n",
    "    print(f\"{key}: {value:.4f}\")"
   ]
  },
  {
   "cell_type": "code",
   "execution_count": 27,
   "id": "a863bec5",
   "metadata": {},
   "outputs": [
    {
     "name": "stdout",
     "output_type": "stream",
     "text": [
      "Classification Report:\n",
      "              precision    recall  f1-score   support\n",
      "\n",
      "    negative       0.83      0.83      0.83         6\n",
      "     neutral       0.80      0.67      0.73         6\n",
      "    positive       0.57      0.67      0.62         6\n",
      "\n",
      "    accuracy                           0.72        18\n",
      "   macro avg       0.73      0.72      0.73        18\n",
      "weighted avg       0.73      0.72      0.73        18\n",
      "\n",
      "\n",
      "Confusion Matrix:\n",
      "[[5 0 1]\n",
      " [0 4 2]\n",
      " [1 1 4]]\n",
      "Sentence: The stadium was alive with the roar of the crowd after that incredible win., true label: positive, predicted labels: positive\n",
      "Sentence: That last-minute goal had me jumping out of my seat—what an unbelievable finish!, true label: positive, predicted labels: positive\n",
      "Sentence: I couldn’t put the book down; it swept me into a whole new world., true label: positive, predicted labels: negative\n",
      "Sentence: The story had its moments, though some parts felt like they dragged on a bit., true label: neutral, predicted labels: neutral\n",
      "Sentence: I enjoyed the way the timelines shifted, even if it got a little confusing sometimes., true label: neutral, predicted labels: positive\n",
      "Sentence: Every time I watch this movie, I notice something new—it really grows on you., true label: positive, predicted labels: positive\n",
      "Sentence: The movie was a wild ride from start to finish; I was on the edge of my seat the entire time., true label: positive, predicted labels: neutral\n",
      "Sentence: Honestly, the team just fell apart in the second half, and it showed on the field., true label: negative, predicted labels: negative\n",
      "Sentence: No surprise there—the coach rested a few players given how packed the schedule was., true label: neutral, predicted labels: neutral\n",
      "Sentence: The trailer was decent, giving you a taste without spilling all the secrets., true label: neutral, predicted labels: positive\n",
      "Sentence: I found the main character so annoying that it was hard to care about what happened next., true label: negative, predicted labels: negative\n",
      "Sentence: The author's style feels really genuine, making each sentence resonate., true label: positive, predicted labels: positive\n",
      "Sentence: The movie never really clicked for me; the leads just lacked any real spark., true label: negative, predicted labels: negative\n",
      "Sentence: Both teams are playing it safe right now, so it's hard to tell who’ll eventually take the lead., true label: neutral, predicted labels: neutral\n",
      "Sentence: Frankly, I don’t get the hype—it’s just a game after all., true label: negative, predicted labels: negative\n",
      "Sentence: Word is, the screenplay was scribbled down during a casual coffee break at a busy cafe., true label: neutral, predicted labels: neutral\n",
      "Sentence: It’s surprising how a promising start could unravel into such a disappointing finish., true label: negative, predicted labels: negative\n",
      "Sentence: In the end, the book was more useful as a coaster than as something worth reading., true label: negative, predicted labels: positive\n"
     ]
    }
   ],
   "source": [
    "modelpath = \"bert-finetuned/checkpoint-3904\" #cahnge if needed\n",
    "model = AutoModelForSequenceClassification.from_pretrained(\n",
    "    modelpath,\n",
    "    torch_dtype=torch.bfloat16,\n",
    ")\n",
    "tokenizer = AutoTokenizer.from_pretrained(model_name)\n",
    "\n",
    "df = pd.read_csv(\"../test-datasets/sentiment-topic-test.tsv\", sep=\"\\t\")\n",
    "sentences = df[\"sentence\"].tolist()\n",
    "true_labels = df[\"sentiment\"].tolist()\n",
    "\n",
    "model.eval()\n",
    "inputs = tokenizer(sentences, padding=True, truncation=True, return_tensors=\"pt\")\n",
    "\n",
    "with torch.no_grad():\n",
    "    outputs = model(**inputs)\n",
    "    logits = outputs.logits\n",
    "    predictions = torch.argmax(logits, dim=-1)\n",
    "\n",
    "label_map = {0: \"negative\", 1: \"neutral\", 2: \"positive\"}\n",
    "inverse_label_map = {v: k for k, v in label_map.items()}\n",
    "predicted_labels = [label_map[p.item()] for p in predictions]\n",
    "true_label_ids = [inverse_label_map[label] for label in true_labels]\n",
    "\n",
    "print(\"Classification Report:\")\n",
    "print(classification_report(true_labels, predicted_labels))\n",
    "\n",
    "print(\"\\nConfusion Matrix:\")\n",
    "print(confusion_matrix(true_labels, predicted_labels, labels=[\"negative\", \"neutral\", \"positive\"]))\n",
    "\n",
    "for index in range(len(sentences)):\n",
    "    print(f\"Sentence: {sentences[index]}, true label: {true_labels[index]}, predicted labels: {predicted_labels[index]}\")"
   ]
  }
 ],
 "metadata": {
  "kernelspec": {
   "display_name": "TextMiningForAI",
   "language": "python",
   "name": "python3"
  },
  "language_info": {
   "codemirror_mode": {
    "name": "ipython",
    "version": 3
   },
   "file_extension": ".py",
   "mimetype": "text/x-python",
   "name": "python",
   "nbconvert_exporter": "python",
   "pygments_lexer": "ipython3",
   "version": "3.12.3"
  }
 },
 "nbformat": 4,
 "nbformat_minor": 5
}
