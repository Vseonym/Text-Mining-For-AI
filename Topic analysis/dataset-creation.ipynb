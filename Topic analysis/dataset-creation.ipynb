{
 "cells": [
  {
   "cell_type": "code",
   "execution_count": 1,
   "id": "25b01984",
   "metadata": {},
   "outputs": [
    {
     "name": "stderr",
     "output_type": "stream",
     "text": [
      "c:\\Users\\georg\\anaconda3\\envs\\TextMining310\\lib\\site-packages\\requests\\__init__.py:86: RequestsDependencyWarning: Unable to find acceptable character detection dependency (chardet or charset_normalizer).\n",
      "  warnings.warn(\n",
      "c:\\Users\\georg\\anaconda3\\envs\\TextMining310\\lib\\site-packages\\tqdm\\auto.py:21: TqdmWarning: IProgress not found. Please update jupyter and ipywidgets. See https://ipywidgets.readthedocs.io/en/stable/user_install.html\n",
      "  from .autonotebook import tqdm as notebook_tqdm\n"
     ]
    }
   ],
   "source": [
    "from datasets import load_dataset\n",
    "import pandas as pd\n",
    "import numpy as np\n",
    "from itertools import islice"
   ]
  },
  {
   "cell_type": "code",
   "execution_count": 2,
   "id": "0dd688da",
   "metadata": {},
   "outputs": [],
   "source": [
    "book_iter = load_dataset(\"bookcorpus\", \"plain_text\", split='train', streaming=True, trust_remote_code=True)\n",
    "book_sample = list(islice(book_iter, 50000))"
   ]
  },
  {
   "cell_type": "code",
   "execution_count": 12,
   "id": "05a1ac71",
   "metadata": {},
   "outputs": [],
   "source": [
    "sports_df = pd.read_csv(\"datasets-to-merge/news_dataset.csv\")\n",
    "sports_sample = sports_df.sample(n=50000, random_state=42).reset_index(drop=True)"
   ]
  },
  {
   "cell_type": "code",
   "execution_count": 4,
   "id": "d595219a",
   "metadata": {},
   "outputs": [],
   "source": [
    "movie_df = pd.read_csv(\"datasets-to-merge/IMDB Dataset.csv\")\n",
    "movie_sample = movie_df.sample(n=50000, random_state=42).reset_index(drop=True)"
   ]
  },
  {
   "cell_type": "code",
   "execution_count": 5,
   "id": "a108d77b",
   "metadata": {},
   "outputs": [],
   "source": [
    "book_df = pd.DataFrame(book_sample)"
   ]
  },
  {
   "cell_type": "code",
   "execution_count": 6,
   "id": "a75f62f6",
   "metadata": {},
   "outputs": [
    {
     "name": "stdout",
     "output_type": "stream",
     "text": [
      "                                                text  topic\n",
      "0  I really liked this Summerslam due to the look...  movie\n",
      "1  Not many television shows appeal to quite as m...  movie\n",
      "2  The film quickly gets to a major chase scene w...  movie\n",
      "3  Jane Austen would definitely approve of this o...  movie\n",
      "4  Expectations were somewhat high for me when I ...  movie\n"
     ]
    }
   ],
   "source": [
    "movie_sample = movie_sample.rename(columns={'review': 'text'})\n",
    "movie_sample['topic'] = 'movie'\n",
    "movie_sample = movie_sample.drop(columns=['sentiment'])\n",
    "print(movie_sample.head())"
   ]
  },
  {
   "cell_type": "code",
   "execution_count": 7,
   "id": "7e105eab",
   "metadata": {},
   "outputs": [
    {
     "name": "stdout",
     "output_type": "stream",
     "text": [
      "                                                text topic\n",
      "0  usually , he would be tearing around the livin...  book\n",
      "1  but just one look at a minion sent him practic...  book\n",
      "2  that had been megan 's plan when she got him d...  book\n",
      "3  he 'd seen the movie almost by mistake , consi...  book\n",
      "4  she liked to think being surrounded by adults ...  book\n"
     ]
    }
   ],
   "source": [
    "book_df['topic'] = 'book'\n",
    "print(book_df.head())"
   ]
  },
  {
   "cell_type": "code",
   "execution_count": 8,
   "id": "356ea254",
   "metadata": {},
   "outputs": [
    {
     "name": "stdout",
     "output_type": "stream",
     "text": [
      "                                            Headline         Sport        Date\n",
      "0  Women's Ice Hockey Wins 4-1 Over Bemidji State...    Ice Hockey  2023-10-13\n",
      "1  Future of Xbox Revealed in Leaked Court Documents       Esports  2023-09-19\n",
      "2  Azerbaijan sends four taekwondo athletes to So...   Tae Kwon Do  2023-10-28\n",
      "3  #14 Utah Football To Take On #18 USC In Colise...      Football  2023-10-17\n",
      "4  Asian Games: Wong bronze ends city’s table ten...  Table Tennis  2023-10-03\n"
     ]
    }
   ],
   "source": [
    "print(sports_sample.head())"
   ]
  },
  {
   "cell_type": "code",
   "execution_count": 13,
   "id": "a4df7a9b",
   "metadata": {},
   "outputs": [
    {
     "name": "stdout",
     "output_type": "stream",
     "text": [
      "                                                text   topic\n",
      "0  Women's Ice Hockey Wins 4-1 Over Bemidji State...  sports\n",
      "1  Future of Xbox Revealed in Leaked Court Documents  sports\n",
      "2  Azerbaijan sends four taekwondo athletes to So...  sports\n",
      "3  #14 Utah Football To Take On #18 USC In Colise...  sports\n",
      "4  Asian Games: Wong bronze ends city’s table ten...  sports\n"
     ]
    }
   ],
   "source": [
    "sports_sample = sports_sample.drop(columns=['Sport', 'Date'])\n",
    "sports_sample = sports_sample.rename(columns={'Headline': 'text'})\n",
    "sports_sample['topic'] = 'sports'\n",
    "sports_sample = sports_sample.dropna(subset=['text'])\n",
    "print(sports_sample.head())"
   ]
  },
  {
   "cell_type": "code",
   "execution_count": 16,
   "id": "498a3b47",
   "metadata": {},
   "outputs": [
    {
     "name": "stdout",
     "output_type": "stream",
     "text": [
      "50000 50000 50000\n"
     ]
    }
   ],
   "source": [
    "print(len(movie_sample), len(book_df), len(sports_sample))"
   ]
  },
  {
   "cell_type": "code",
   "execution_count": 17,
   "id": "32b7c9bc",
   "metadata": {},
   "outputs": [],
   "source": [
    "combined_df = pd.concat([book_df, sports_sample, movie_sample], ignore_index=True)"
   ]
  },
  {
   "cell_type": "code",
   "execution_count": 18,
   "id": "114d6059",
   "metadata": {},
   "outputs": [],
   "source": [
    "combined_df.to_csv(\"topic-analysis-dataset.csv\", index=False)"
   ]
  },
  {
   "cell_type": "code",
   "execution_count": 19,
   "id": "9bb823f1",
   "metadata": {},
   "outputs": [
    {
     "name": "stdout",
     "output_type": "stream",
     "text": [
      "Unique topics: ['book' 'sports' 'movie']\n",
      "Number of unique topics: 3\n",
      "topic\n",
      "book      50000\n",
      "sports    50000\n",
      "movie     50000\n",
      "Name: count, dtype: int64\n"
     ]
    }
   ],
   "source": [
    "df = pd.read_csv(\"topic-analysis-dataset.csv\")\n",
    "unique_topics = df['topic'].unique()\n",
    "print(f\"Unique topics: {unique_topics}\")\n",
    "print(f\"Number of unique topics: {len(unique_topics)}\")\n",
    "topic_counts = df['topic'].value_counts()\n",
    "print(topic_counts)"
   ]
  }
 ],
 "metadata": {
  "kernelspec": {
   "display_name": "TextMining310",
   "language": "python",
   "name": "python3"
  },
  "language_info": {
   "codemirror_mode": {
    "name": "ipython",
    "version": 3
   },
   "file_extension": ".py",
   "mimetype": "text/x-python",
   "name": "python",
   "nbconvert_exporter": "python",
   "pygments_lexer": "ipython3",
   "version": "3.10.16"
  }
 },
 "nbformat": 4,
 "nbformat_minor": 5
}
