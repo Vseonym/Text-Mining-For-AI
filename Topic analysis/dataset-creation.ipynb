{
 "cells": [
  {
   "cell_type": "code",
   "execution_count": 6,
   "id": "25b01984",
   "metadata": {},
   "outputs": [],
   "source": [
    "from datasets import load_dataset\n",
    "import pandas as pd\n",
    "from itertools import islice"
   ]
  },
  {
   "cell_type": "code",
   "execution_count": 7,
   "id": "0dd688da",
   "metadata": {},
   "outputs": [],
   "source": [
    "book_iter = load_dataset(\"bookcorpus\", \"plain_text\", split='train', streaming=True, trust_remote_code=True)\n",
    "book_sample = list(islice(book_iter, 25000))"
   ]
  },
  {
   "cell_type": "code",
   "execution_count": 8,
   "id": "05a1ac71",
   "metadata": {},
   "outputs": [
    {
     "data": {
      "application/vnd.jupyter.widget-view+json": {
       "model_id": "970d92c60d504929be229f6e27327605",
       "version_major": 2,
       "version_minor": 0
      },
      "text/plain": [
       "Resolving data files:   0%|          | 0/678 [00:00<?, ?it/s]"
      ]
     },
     "metadata": {},
     "output_type": "display_data"
    }
   ],
   "source": [
    "sports_iter = load_dataset(\"Chrisneverdie/OnlySports_Dataset\", split='train', streaming=True)\n",
    "sports_sample = list(islice(sports_iter, 25000))"
   ]
  },
  {
   "cell_type": "code",
   "execution_count": 32,
   "id": "d595219a",
   "metadata": {},
   "outputs": [],
   "source": [
    "movie_df = pd.read_csv(\"datasets-to-merge/IMDB Dataset.csv\")\n",
    "movie_sample = movie_df.sample(n=25000, random_state=42).reset_index(drop=True)"
   ]
  },
  {
   "cell_type": "code",
   "execution_count": 10,
   "id": "a108d77b",
   "metadata": {},
   "outputs": [],
   "source": [
    "book_df = pd.DataFrame(book_sample)\n",
    "sports_df = pd.DataFrame(sports_sample)"
   ]
  },
  {
   "cell_type": "code",
   "execution_count": 33,
   "id": "a75f62f6",
   "metadata": {},
   "outputs": [
    {
     "name": "stdout",
     "output_type": "stream",
     "text": [
      "                                                text  topic\n",
      "0  I really liked this Summerslam due to the look...  movie\n",
      "1  Not many television shows appeal to quite as m...  movie\n",
      "2  The film quickly gets to a major chase scene w...  movie\n",
      "3  Jane Austen would definitely approve of this o...  movie\n",
      "4  Expectations were somewhat high for me when I ...  movie\n"
     ]
    }
   ],
   "source": [
    "movie_sample = movie_sample.rename(columns={'review': 'text'})\n",
    "movie_sample['topic'] = 'movie'\n",
    "movie_sample = movie_sample.drop(columns=['sentiment'])\n",
    "print(movie_sample.head())"
   ]
  },
  {
   "cell_type": "code",
   "execution_count": 28,
   "id": "7e105eab",
   "metadata": {},
   "outputs": [
    {
     "name": "stdout",
     "output_type": "stream",
     "text": [
      "                                                text topic\n",
      "0  usually , he would be tearing around the livin...  book\n",
      "1  but just one look at a minion sent him practic...  book\n",
      "2  that had been megan 's plan when she got him d...  book\n",
      "3  he 'd seen the movie almost by mistake , consi...  book\n",
      "4  she liked to think being surrounded by adults ...  book\n"
     ]
    }
   ],
   "source": [
    "book_df['topic'] = 'book'\n",
    "print(book_df.head())"
   ]
  },
  {
   "cell_type": "code",
   "execution_count": null,
   "id": "a4df7a9b",
   "metadata": {},
   "outputs": [
    {
     "name": "stdout",
     "output_type": "stream",
     "text": [
      "                                                text   topic\n",
      "0  San Francisco 49ers cornerback Shawntae Spence...  sports\n",
      "1  White House Has a Plan to Tackle 3 Separate Sc...  sports\n",
      "2  6:29 p.m. ET: ABC’s David Wright tweeted:\\n3:4...  sports\n",
      "3  There’s no doubt of my affections for the Rich...  sports\n",
      "4  This is one of the few weekends every year tha...  sports\n"
     ]
    }
   ],
   "source": [
    "sports_df = sports_df.drop(columns=['url', 'token_count'])\n",
    "sports_df['topic'] = 'sports'\n",
    "print(sports_df.head())\n"
   ]
  },
  {
   "cell_type": "code",
   "execution_count": 45,
   "id": "498a3b47",
   "metadata": {},
   "outputs": [
    {
     "name": "stdout",
     "output_type": "stream",
     "text": [
      "25000 25000 25000\n"
     ]
    }
   ],
   "source": [
    "print(len(movie_sample), len(book_df), len(sports_df))"
   ]
  },
  {
   "cell_type": "code",
   "execution_count": 46,
   "id": "32b7c9bc",
   "metadata": {},
   "outputs": [],
   "source": [
    "combined_df = pd.concat([book_df, sports_df, movie_sample], ignore_index=True)"
   ]
  },
  {
   "cell_type": "code",
   "execution_count": 47,
   "id": "114d6059",
   "metadata": {},
   "outputs": [],
   "source": [
    "combined_df.to_csv(\"topic-analysis-dataset.csv\", index=False)"
   ]
  },
  {
   "cell_type": "code",
   "execution_count": 51,
   "id": "9bb823f1",
   "metadata": {},
   "outputs": [
    {
     "name": "stdout",
     "output_type": "stream",
     "text": [
      "Unique topics: ['book' 'sports' 'movie']\n",
      "Number of unique topics: 3\n",
      "topic\n",
      "book      25000\n",
      "sports    25000\n",
      "movie     25000\n",
      "Name: count, dtype: int64\n"
     ]
    }
   ],
   "source": [
    "df = pd.read_csv(\"topic-analysis-dataset.csv\")\n",
    "unique_topics = df['topic'].unique()\n",
    "print(f\"Unique topics: {unique_topics}\")\n",
    "print(f\"Number of unique topics: {len(unique_topics)}\")\n",
    "topic_counts = df['topic'].value_counts()\n",
    "print(topic_counts)"
   ]
  }
 ],
 "metadata": {
  "kernelspec": {
   "display_name": "TextMiningForAI",
   "language": "python",
   "name": "python3"
  },
  "language_info": {
   "codemirror_mode": {
    "name": "ipython",
    "version": 3
   },
   "file_extension": ".py",
   "mimetype": "text/x-python",
   "name": "python",
   "nbconvert_exporter": "python",
   "pygments_lexer": "ipython3",
   "version": "3.12.3"
  }
 },
 "nbformat": 4,
 "nbformat_minor": 5
}
